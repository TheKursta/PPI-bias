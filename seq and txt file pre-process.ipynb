{
 "cells": [
  {
   "cell_type": "markdown",
   "metadata": {},
   "source": [
    "# Pre-process .seq file\n",
    "The protein library is stored in .seq file with name and sequence. This code coverts into into csv file suitable for our project."
   ]
  },
  {
   "cell_type": "code",
   "execution_count": 15,
   "metadata": {},
   "outputs": [],
   "source": [
    "from Bio.SeqIO.FastaIO import SimpleFastaParser\n",
    "import pandas as pd"
   ]
  },
  {
   "cell_type": "code",
   "execution_count": 16,
   "metadata": {},
   "outputs": [],
   "source": [
    "with open('uniprot_human.seq') as seq_file:\n",
    "    identifiers = []\n",
    "    sequences = []\n",
    "    for title, sequence in SimpleFastaParser(seq_file):\n",
    "        identifiers.append(title.split(None, 1)[0])  # First word is ID\n",
    "        sequences.append(sequence)"
   ]
  },
  {
   "cell_type": "code",
   "execution_count": 17,
   "metadata": {},
   "outputs": [],
   "source": [
    "#creating a pandas dataframe and saving as csv\n",
    "d = {'ID': identifiers, 'Sequence': sequences}\n",
    "df = pd.DataFrame(data=d)"
   ]
  },
  {
   "cell_type": "code",
   "execution_count": 18,
   "metadata": {},
   "outputs": [
    {
     "name": "stdout",
     "output_type": "stream",
     "text": [
      "(20117, 2)\n"
     ]
    },
    {
     "data": {
      "text/html": [
       "<div>\n",
       "<style scoped>\n",
       "    .dataframe tbody tr th:only-of-type {\n",
       "        vertical-align: middle;\n",
       "    }\n",
       "\n",
       "    .dataframe tbody tr th {\n",
       "        vertical-align: top;\n",
       "    }\n",
       "\n",
       "    .dataframe thead th {\n",
       "        text-align: right;\n",
       "    }\n",
       "</style>\n",
       "<table border=\"1\" class=\"dataframe\">\n",
       "  <thead>\n",
       "    <tr style=\"text-align: right;\">\n",
       "      <th></th>\n",
       "      <th>ID</th>\n",
       "      <th>Sequence</th>\n",
       "    </tr>\n",
       "  </thead>\n",
       "  <tbody>\n",
       "    <tr>\n",
       "      <th>0</th>\n",
       "      <td>P00441</td>\n",
       "      <td>MATKAVCVLKGDGPVQGIINFEQKESNGPVKVWGSIKGLTEGLHGF...</td>\n",
       "    </tr>\n",
       "    <tr>\n",
       "      <th>1</th>\n",
       "      <td>Q13046</td>\n",
       "      <td>MGPLSAPPCTQHITWKGLLLTASLLNFWNPPTTAQVTIEAQPPKVS...</td>\n",
       "    </tr>\n",
       "    <tr>\n",
       "      <th>2</th>\n",
       "      <td>P0C868</td>\n",
       "      <td>MVVDLKNLLFNPSKPVSRGSQPADVDLMIDCLVSCLRVSPHNNQQF...</td>\n",
       "    </tr>\n",
       "    <tr>\n",
       "      <th>3</th>\n",
       "      <td>Q96G97</td>\n",
       "      <td>MVNDPPVPALLWAQEVGQVLAGRARRLLLQFGVLFCTILLLLWVSV...</td>\n",
       "    </tr>\n",
       "    <tr>\n",
       "      <th>4</th>\n",
       "      <td>Q9UBN7</td>\n",
       "      <td>MTSTGQDSTTTRQRRSRQNPQSPPQDSSVTSKRNIKKGAVPRSIPN...</td>\n",
       "    </tr>\n",
       "  </tbody>\n",
       "</table>\n",
       "</div>"
      ],
      "text/plain": [
       "       ID                                           Sequence\n",
       "0  P00441  MATKAVCVLKGDGPVQGIINFEQKESNGPVKVWGSIKGLTEGLHGF...\n",
       "1  Q13046  MGPLSAPPCTQHITWKGLLLTASLLNFWNPPTTAQVTIEAQPPKVS...\n",
       "2  P0C868  MVVDLKNLLFNPSKPVSRGSQPADVDLMIDCLVSCLRVSPHNNQQF...\n",
       "3  Q96G97  MVNDPPVPALLWAQEVGQVLAGRARRLLLQFGVLFCTILLLLWVSV...\n",
       "4  Q9UBN7  MTSTGQDSTTTRQRRSRQNPQSPPQDSSVTSKRNIKKGAVPRSIPN..."
      ]
     },
     "execution_count": 18,
     "metadata": {},
     "output_type": "execute_result"
    }
   ],
   "source": [
    "print(df.shape)\n",
    "df.head()"
   ]
  },
  {
   "cell_type": "code",
   "execution_count": 19,
   "metadata": {},
   "outputs": [],
   "source": [
    "df.to_csv(\"uniprot_human.csv\")"
   ]
  },
  {
   "cell_type": "markdown",
   "metadata": {},
   "source": [
    "# Pre-process .txt file\n",
    "Convert protein interaction txt file to suitable csv file for analysis pipeline"
   ]
  },
  {
   "cell_type": "code",
   "execution_count": 26,
   "metadata": {},
   "outputs": [],
   "source": [
    "with open('human_balanced_test.txt') as txt_file:\n",
    "    content = txt_file.readlines()\n",
    "content = [x.strip().split() for x in content]\n",
    "\n",
    "ID1 = [x[1] for x in content]\n",
    "ID2 = [x[2] for x in content]\n",
    "interactions = [x[0] for x in content]"
   ]
  },
  {
   "cell_type": "code",
   "execution_count": 27,
   "metadata": {},
   "outputs": [],
   "source": [
    "#creating a pandas dataframe and saving as csv\n",
    "d = {'ID1': ID1,'ID2':ID2,'Interaction':interactions}\n",
    "df = pd.DataFrame(data=d)\n",
    "df.loc[df['Interaction'] == 'Positive', 'Interaction'] = 1\n",
    "df.loc[df['Interaction'] == 'Negative', 'Interaction'] = 0"
   ]
  },
  {
   "cell_type": "code",
   "execution_count": 28,
   "metadata": {},
   "outputs": [
    {
     "name": "stdout",
     "output_type": "stream",
     "text": [
      "(2776, 3)\n"
     ]
    },
    {
     "data": {
      "text/html": [
       "<div>\n",
       "<style scoped>\n",
       "    .dataframe tbody tr th:only-of-type {\n",
       "        vertical-align: middle;\n",
       "    }\n",
       "\n",
       "    .dataframe tbody tr th {\n",
       "        vertical-align: top;\n",
       "    }\n",
       "\n",
       "    .dataframe thead th {\n",
       "        text-align: right;\n",
       "    }\n",
       "</style>\n",
       "<table border=\"1\" class=\"dataframe\">\n",
       "  <thead>\n",
       "    <tr style=\"text-align: right;\">\n",
       "      <th></th>\n",
       "      <th>ID1</th>\n",
       "      <th>ID2</th>\n",
       "      <th>Interaction</th>\n",
       "    </tr>\n",
       "  </thead>\n",
       "  <tbody>\n",
       "    <tr>\n",
       "      <th>0</th>\n",
       "      <td>Q9Y574</td>\n",
       "      <td>Q13617</td>\n",
       "      <td>1</td>\n",
       "    </tr>\n",
       "    <tr>\n",
       "      <th>1</th>\n",
       "      <td>O95999</td>\n",
       "      <td>P55211</td>\n",
       "      <td>1</td>\n",
       "    </tr>\n",
       "    <tr>\n",
       "      <th>2</th>\n",
       "      <td>P30305</td>\n",
       "      <td>O14965</td>\n",
       "      <td>1</td>\n",
       "    </tr>\n",
       "    <tr>\n",
       "      <th>3</th>\n",
       "      <td>Q9BXS5</td>\n",
       "      <td>P01833</td>\n",
       "      <td>1</td>\n",
       "    </tr>\n",
       "    <tr>\n",
       "      <th>4</th>\n",
       "      <td>P08581</td>\n",
       "      <td>P21554</td>\n",
       "      <td>1</td>\n",
       "    </tr>\n",
       "  </tbody>\n",
       "</table>\n",
       "</div>"
      ],
      "text/plain": [
       "      ID1     ID2 Interaction\n",
       "0  Q9Y574  Q13617           1\n",
       "1  O95999  P55211           1\n",
       "2  P30305  O14965           1\n",
       "3  Q9BXS5  P01833           1\n",
       "4  P08581  P21554           1"
      ]
     },
     "execution_count": 28,
     "metadata": {},
     "output_type": "execute_result"
    }
   ],
   "source": [
    "print(df.shape)\n",
    "df.head()"
   ]
  },
  {
   "cell_type": "code",
   "execution_count": 29,
   "metadata": {},
   "outputs": [],
   "source": [
    "df.to_csv(\"test_balanced.csv\")"
   ]
  },
  {
   "cell_type": "code",
   "execution_count": 30,
   "metadata": {},
   "outputs": [],
   "source": [
    "with open('human_balanced_train.txt') as txt_file:\n",
    "    content = txt_file.readlines()\n",
    "content = [x.strip().split() for x in content]\n",
    "\n",
    "ID1 = [x[1] for x in content]\n",
    "ID2 = [x[2] for x in content]\n",
    "interactions = [x[0] for x in content]"
   ]
  },
  {
   "cell_type": "code",
   "execution_count": 31,
   "metadata": {},
   "outputs": [],
   "source": [
    "#creating a pandas dataframe and saving as csv\n",
    "d = {'ID1': ID1,'ID2':ID2,'Interaction':interactions}\n",
    "df = pd.DataFrame(data=d)\n",
    "df.loc[df['Interaction'] == 'Positive', 'Interaction'] = 1\n",
    "df.loc[df['Interaction'] == 'Negative', 'Interaction'] = 0"
   ]
  },
  {
   "cell_type": "code",
   "execution_count": 32,
   "metadata": {},
   "outputs": [
    {
     "name": "stdout",
     "output_type": "stream",
     "text": [
      "(24998, 3)\n"
     ]
    },
    {
     "data": {
      "text/html": [
       "<div>\n",
       "<style scoped>\n",
       "    .dataframe tbody tr th:only-of-type {\n",
       "        vertical-align: middle;\n",
       "    }\n",
       "\n",
       "    .dataframe tbody tr th {\n",
       "        vertical-align: top;\n",
       "    }\n",
       "\n",
       "    .dataframe thead th {\n",
       "        text-align: right;\n",
       "    }\n",
       "</style>\n",
       "<table border=\"1\" class=\"dataframe\">\n",
       "  <thead>\n",
       "    <tr style=\"text-align: right;\">\n",
       "      <th></th>\n",
       "      <th>ID1</th>\n",
       "      <th>ID2</th>\n",
       "      <th>Interaction</th>\n",
       "    </tr>\n",
       "  </thead>\n",
       "  <tbody>\n",
       "    <tr>\n",
       "      <th>0</th>\n",
       "      <td>O43172</td>\n",
       "      <td>O43290</td>\n",
       "      <td>1</td>\n",
       "    </tr>\n",
       "    <tr>\n",
       "      <th>1</th>\n",
       "      <td>Q9NWS9</td>\n",
       "      <td>P17028</td>\n",
       "      <td>1</td>\n",
       "    </tr>\n",
       "    <tr>\n",
       "      <th>2</th>\n",
       "      <td>Q9Y230</td>\n",
       "      <td>Q86XP3</td>\n",
       "      <td>1</td>\n",
       "    </tr>\n",
       "    <tr>\n",
       "      <th>3</th>\n",
       "      <td>Q96RL1</td>\n",
       "      <td>Q13564</td>\n",
       "      <td>1</td>\n",
       "    </tr>\n",
       "    <tr>\n",
       "      <th>4</th>\n",
       "      <td>O75400</td>\n",
       "      <td>P10586</td>\n",
       "      <td>1</td>\n",
       "    </tr>\n",
       "  </tbody>\n",
       "</table>\n",
       "</div>"
      ],
      "text/plain": [
       "      ID1     ID2 Interaction\n",
       "0  O43172  O43290           1\n",
       "1  Q9NWS9  P17028           1\n",
       "2  Q9Y230  Q86XP3           1\n",
       "3  Q96RL1  Q13564           1\n",
       "4  O75400  P10586           1"
      ]
     },
     "execution_count": 32,
     "metadata": {},
     "output_type": "execute_result"
    }
   ],
   "source": [
    "print(df.shape)\n",
    "df.head()"
   ]
  },
  {
   "cell_type": "code",
   "execution_count": 33,
   "metadata": {},
   "outputs": [],
   "source": [
    "df.to_csv(\"train_balanced.csv\")"
   ]
  },
  {
   "cell_type": "code",
   "execution_count": 37,
   "metadata": {},
   "outputs": [
    {
     "data": {
      "text/plain": [
       "(27774, 3)"
      ]
     },
     "execution_count": 37,
     "metadata": {},
     "output_type": "execute_result"
    }
   ],
   "source": [
    "#join the two datasplits into one for convenience\n",
    "df1 = pd.read_csv(\"train_balanced.csv\", index_col = 0) \n",
    "df2 = pd.read_csv(\"test_balanced.csv\", index_col = 0)\n",
    "concat = pd.concat([df1,df2])\n",
    "concat.head()\n",
    "concat.shape"
   ]
  },
  {
   "cell_type": "code",
   "execution_count": 38,
   "metadata": {},
   "outputs": [],
   "source": [
    "concat.to_csv(\"balanced_interactions.csv\")"
   ]
  }
 ],
 "metadata": {
  "kernelspec": {
   "display_name": "Python 3",
   "language": "python",
   "name": "python3"
  },
  "language_info": {
   "codemirror_mode": {
    "name": "ipython",
    "version": 3
   },
   "file_extension": ".py",
   "mimetype": "text/x-python",
   "name": "python",
   "nbconvert_exporter": "python",
   "pygments_lexer": "ipython3",
   "version": "3.6.10"
  }
 },
 "nbformat": 4,
 "nbformat_minor": 4
}
